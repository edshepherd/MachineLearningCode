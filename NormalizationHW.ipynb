{
 "cells": [
  {
   "cell_type": "code",
   "execution_count": 27,
   "id": "d20f21d5",
   "metadata": {},
   "outputs": [],
   "source": [
    "import pandas as pd"
   ]
  },
  {
   "cell_type": "code",
   "execution_count": 28,
   "id": "fc369c36",
   "metadata": {},
   "outputs": [],
   "source": [
    "df = pd.read_csv(\"cs654_homework2_dataset_shepherd.csv\")"
   ]
  },
  {
   "cell_type": "code",
   "execution_count": 29,
   "id": "f0ec00ab",
   "metadata": {},
   "outputs": [
    {
     "data": {
      "text/html": [
       "<div>\n",
       "<style scoped>\n",
       "    .dataframe tbody tr th:only-of-type {\n",
       "        vertical-align: middle;\n",
       "    }\n",
       "\n",
       "    .dataframe tbody tr th {\n",
       "        vertical-align: top;\n",
       "    }\n",
       "\n",
       "    .dataframe thead th {\n",
       "        text-align: right;\n",
       "    }\n",
       "</style>\n",
       "<table border=\"1\" class=\"dataframe\">\n",
       "  <thead>\n",
       "    <tr style=\"text-align: right;\">\n",
       "      <th></th>\n",
       "      <th>index</th>\n",
       "      <th>gender</th>\n",
       "      <th>bmi</th>\n",
       "      <th>bloodpressure</th>\n",
       "      <th>smoker</th>\n",
       "      <th>region</th>\n",
       "    </tr>\n",
       "  </thead>\n",
       "  <tbody>\n",
       "    <tr>\n",
       "      <th>0</th>\n",
       "      <td>0</td>\n",
       "      <td>male</td>\n",
       "      <td>23.2</td>\n",
       "      <td>91</td>\n",
       "      <td>No</td>\n",
       "      <td>southeast</td>\n",
       "    </tr>\n",
       "    <tr>\n",
       "      <th>1</th>\n",
       "      <td>1</td>\n",
       "      <td>male</td>\n",
       "      <td>30.1</td>\n",
       "      <td>87</td>\n",
       "      <td>No</td>\n",
       "      <td>southeast</td>\n",
       "    </tr>\n",
       "    <tr>\n",
       "      <th>2</th>\n",
       "      <td>2</td>\n",
       "      <td>male</td>\n",
       "      <td>33.3</td>\n",
       "      <td>82</td>\n",
       "      <td>No</td>\n",
       "      <td>southeast</td>\n",
       "    </tr>\n",
       "    <tr>\n",
       "      <th>3</th>\n",
       "      <td>3</td>\n",
       "      <td>male</td>\n",
       "      <td>33.7</td>\n",
       "      <td>80</td>\n",
       "      <td>No</td>\n",
       "      <td>northwest</td>\n",
       "    </tr>\n",
       "    <tr>\n",
       "      <th>4</th>\n",
       "      <td>4</td>\n",
       "      <td>male</td>\n",
       "      <td>34.1</td>\n",
       "      <td>100</td>\n",
       "      <td>No</td>\n",
       "      <td>northwest</td>\n",
       "    </tr>\n",
       "  </tbody>\n",
       "</table>\n",
       "</div>"
      ],
      "text/plain": [
       "   index gender   bmi  bloodpressure smoker     region\n",
       "0      0   male  23.2             91     No  southeast\n",
       "1      1   male  30.1             87     No  southeast\n",
       "2      2   male  33.3             82     No  southeast\n",
       "3      3   male  33.7             80     No  northwest\n",
       "4      4   male  34.1            100     No  northwest"
      ]
     },
     "execution_count": 29,
     "metadata": {},
     "output_type": "execute_result"
    }
   ],
   "source": [
    "df.head()"
   ]
  },
  {
   "cell_type": "code",
   "execution_count": 30,
   "id": "d0c52e07",
   "metadata": {},
   "outputs": [],
   "source": [
    "#convert columns to parallel lists\n",
    "#2 quantitative\n",
    "bp_list = df['bloodpressure'].tolist()\n",
    "bmi_list = df['bmi'].tolist()\n",
    "#1 binary\n",
    "sm_list = df['smoker'].tolist()\n",
    "# 1 categorical\n",
    "reg_list = df['region'].tolist()"
   ]
  },
  {
   "cell_type": "code",
   "execution_count": 31,
   "id": "9c692450",
   "metadata": {},
   "outputs": [],
   "source": [
    "#normalize quantitative data\n",
    "def norm_data(data_list, mini, maxi):\n",
    "    norm_list = []\n",
    "    for x in data_list:\n",
    "        norm_list.append((x-mini)/(maxi - mini))\n",
    "    return norm_list"
   ]
  },
  {
   "cell_type": "code",
   "execution_count": 32,
   "id": "9a810696",
   "metadata": {},
   "outputs": [],
   "source": [
    "bmi_list = norm_data(bmi_list, min(bmi_list), max(bmi_list))\n",
    "bp_list = norm_data(bp_list, min(bp_list), max(bp_list))"
   ]
  },
  {
   "cell_type": "code",
   "execution_count": 33,
   "id": "d71e2323",
   "metadata": {},
   "outputs": [
    {
     "name": "stdout",
     "output_type": "stream",
     "text": [
      "[23.2, 30.1, 33.3, 33.7, 34.1, 34.4, 37.3, 41.1, 43.0, 53.1, 19.8, 20.3, 20.7, 34.1, 34.4, 35.4, 33.3, 23.2, 31.1, 35.5, 36.9, 20.8, 43.0, 26.7, 17.5, 31.1, 31.4, 20.4, 21.8, 22.6, 36.9, 38.2, 38.3, 25.2, 25.6, 39.2, 39.8, 40.3, 27.8, 30.6, 30.6, 35.5, 26.8, 33.8, 39.5, 16.0, 21.5, 23.0, 23.1, 23.8, 25.5, 26.1, 23.3, 28.5, 29.4, 30.0, 33.8, 35.2, 17.8, 18.6, 20.6, 24.7, 28.9, 29.8, 32.9, 40.5, 29.7, 26.5, 32.6, 34.4, 20.9, 24.6, 41.9, 28.4, 29.6, 31.5, 33.0, 33.3, 29.0, 31.3, 36.9, 22.0, 27.9, 23.4, 25.8, 29.3, 33.0, 32.0, 40.5, 35.9, 25.8, 34.6, 34.9, 39.5, 25.2, 32.1, 26.0, 22.3, 27.4, 22.5, 30.5, 32.1, 35.2]\n"
     ]
    }
   ],
   "source": [
    "print(bmi_list)\n"
   ]
  },
  {
   "cell_type": "code",
   "execution_count": 34,
   "id": "83634c00",
   "metadata": {},
   "outputs": [],
   "source": []
  },
  {
   "cell_type": "code",
   "execution_count": 35,
   "id": "764399bf",
   "metadata": {},
   "outputs": [],
   "source": [
    "import math\n",
    "def comp_dist_matrix(data_list):\n",
    "    dist_matrix = []\n",
    "    for i in range(len(data_list)):\n",
    "        cur_row = []\n",
    "        for j in range(len(data_list)):\n",
    "            cur_row.append(math.fabs(data_list[i]-data_list[j]))\n",
    "        dist_matrix.append(cur_row)\n",
    "    return dist_matrix\n",
    "                        "
   ]
  },
  {
   "cell_type": "code",
   "execution_count": 50,
   "id": "34a00979",
   "metadata": {},
   "outputs": [
    {
     "name": "stdout",
     "output_type": "stream",
     "text": [
      "0.0\n",
      "0.0\n"
     ]
    }
   ],
   "source": [
    "bmi_dif = comp_dist_matrix(bmi_list)\n",
    "bp_dif = comp_dist_matrix(bp_list)\n",
    "print(bmi_dif[2][2])\n",
    "print(bp_dif[3][3])"
   ]
  },
  {
   "cell_type": "code",
   "execution_count": 53,
   "id": "5a05e5fa",
   "metadata": {},
   "outputs": [],
   "source": [
    "# calculate difference matrix for categorical data\n",
    "#also works for Boolean attribute\n",
    "def comp_dif_cat(data_list):\n",
    "    dist_matrix = []\n",
    "    for i in range(len(data_list)):\n",
    "        cur_row = []\n",
    "        for j in range(len(data_list)):\n",
    "            if data_list[i] == data_list[j]:\n",
    "                cur_row.append(0)\n",
    "            else:\n",
    "                cur_row.append(1)\n",
    "        dist_matrix.append(cur_row)\n",
    "    return dist_matrix"
   ]
  },
  {
   "cell_type": "code",
   "execution_count": 55,
   "id": "589900c4",
   "metadata": {},
   "outputs": [
    {
     "name": "stdout",
     "output_type": "stream",
     "text": [
      "0\n",
      "0\n"
     ]
    }
   ],
   "source": [
    "sm_dif = comp_dif_cat(sm_list)\n",
    "reg_dif = comp_dif_cat(reg_list)\n",
    "print(sm_dif[2][2])\n",
    "print(reg_dif[2][2])"
   ]
  },
  {
   "cell_type": "code",
   "execution_count": 57,
   "id": "620ba8d9",
   "metadata": {},
   "outputs": [],
   "source": [
    "def comp_final_dist(list1, list2, list3, list4):\n",
    "    dist_matrix = []\n",
    "    for i in range(len(list1)):\n",
    "        cur_row = []\n",
    "        for j in range(len(list1)):\n",
    "            d = round((list1[i][j] + list2[i][j] + list3[i][j] + list4[i][j])/4, 2)\n",
    "            cur_row.append(d)\n",
    "        dist_matrix.append(cur_row)\n",
    "    return dist_matrix\n"
   ]
  },
  {
   "cell_type": "code",
   "execution_count": 58,
   "id": "2295b99a",
   "metadata": {},
   "outputs": [],
   "source": [
    "final_matrix = comp_final_dist(bp_dif, bmi_dif, sm_dif, reg_dif)"
   ]
  },
  {
   "cell_type": "code",
   "execution_count": 41,
   "id": "f1728798",
   "metadata": {},
   "outputs": [],
   "source": [
    "def calc_dist():\n",
    "    i = int(input(\"Enter the index of the first patient: 0-99. \"))\n",
    "    j = int(input(\"Enter the index of the second patient: 0-99. \"))\n",
    "    print(\"The distance between the two patients is \", final_matrix[i][j])\n",
    "    return(final_matrix[i][j])"
   ]
  },
  {
   "cell_type": "code",
   "execution_count": 62,
   "id": "bea25061",
   "metadata": {},
   "outputs": [
    {
     "name": "stdout",
     "output_type": "stream",
     "text": [
      "Enter the index of the first patient: 0-99. 42\n",
      "Enter the index of the second patient: 0-99. 42\n",
      "The distance between the two patients is  0.0\n"
     ]
    },
    {
     "data": {
      "text/plain": [
       "0.0"
      ]
     },
     "execution_count": 62,
     "metadata": {},
     "output_type": "execute_result"
    }
   ],
   "source": [
    "calc_dist()"
   ]
  },
  {
   "cell_type": "code",
   "execution_count": 59,
   "id": "2ad062a1",
   "metadata": {},
   "outputs": [
    {
     "data": {
      "text/plain": [
       "0.0"
      ]
     },
     "execution_count": 59,
     "metadata": {},
     "output_type": "execute_result"
    }
   ],
   "source": [
    "final_matrix[0][0]"
   ]
  },
  {
   "cell_type": "code",
   "execution_count": null,
   "id": "116c0f81",
   "metadata": {},
   "outputs": [],
   "source": []
  }
 ],
 "metadata": {
  "kernelspec": {
   "display_name": "Python 3 (ipykernel)",
   "language": "python",
   "name": "python3"
  },
  "language_info": {
   "codemirror_mode": {
    "name": "ipython",
    "version": 3
   },
   "file_extension": ".py",
   "mimetype": "text/x-python",
   "name": "python",
   "nbconvert_exporter": "python",
   "pygments_lexer": "ipython3",
   "version": "3.9.12"
  }
 },
 "nbformat": 4,
 "nbformat_minor": 5
}
